{
 "cells": [
  {
   "cell_type": "code",
   "execution_count": 1,
   "metadata": {},
   "outputs": [],
   "source": [
    "import json\n",
    "import numpy as np\n",
    "import pandas as pd\n",
    "import gzip\n",
    "import re\n",
    "from textblob import TextBlob"
   ]
  },
  {
   "cell_type": "code",
   "execution_count": 2,
   "metadata": {},
   "outputs": [],
   "source": [
    "#function to load data.\n",
    "def parse(path):\n",
    "    g = gzip.open(path, 'r')\n",
    "    for l in g:\n",
    "        yield json.loads(l)\n",
    "    return g\n",
    "#getDF creates and returns an object data frame. for more info: https://pandas.pydata.org/pandas-docs/stable/reference/api/pandas.DataFrame.at.html#pandas.DataFrame.at\n",
    "def getDF(path):\n",
    "    i = 0\n",
    "    df = {}\n",
    "    for d in parse(path):\n",
    "        df[i]= d\n",
    "        i += 1\n",
    "    return pd.DataFrame.from_dict(df, orient = 'index')"
   ]
  },
  {
   "cell_type": "code",
   "execution_count": 3,
   "metadata": {},
   "outputs": [],
   "source": [
    "# to see what data looks like run df\n",
    "df = getDF(\"software.json.gz\")\n"
   ]
  },
  {
   "cell_type": "code",
   "execution_count": 8,
   "metadata": {},
   "outputs": [],
   "source": [
    "df2 = df\n",
    "df2 = df2.drop([\"verified\", \"reviewTime\", \"reviewerID\",\"asin\",\"style\",\"reviewerName\",\"summary\", \"unixReviewTime\", \"image\"], axis =1)\n",
    "df2 = df2.sort_values(by=['vote'])\n",
    "df2 = df2.head(100)"
   ]
  },
  {
   "cell_type": "code",
   "execution_count": 5,
   "metadata": {
    "scrolled": false
   },
   "outputs": [],
   "source": [
    "#df['key.value'] will let you print out all of the values you pass. \n",
    "# accepted values are asin - ID of the product, e.g. 0000031852\n",
    "#reviewerID - ID of the reviewer, e.g. A2SUAM1J3GNN3B\n",
    "#asin - ID of the product, e.g. 0000013714\n",
    "#reviewerName - name of the reviewer\n",
    "#vote - helpful votes of the review\n",
    "#style - a disctionary of the product metadata, e.g., \"Format\" is \"Hardcover\"\n",
    "#reviewText - text of the review\n",
    "#overall - rating of the product\n",
    "#summary - summary of the review\n",
    "#unixReviewTime - time of the review (unix time)\n",
    "#reviewTime - time of the review (raw)\n",
    "#image - images that users post after they have received the product\n",
    "\n",
    "#df.at[1,'overall'] will let you find a single key at a specified location.\n",
    "#comments "
   ]
  },
  {
   "cell_type": "code",
   "execution_count": null,
   "metadata": {},
   "outputs": [],
   "source": []
  },
  {
   "cell_type": "code",
   "execution_count": 6,
   "metadata": {},
   "outputs": [],
   "source": [
    "def analyze_sentiment(comment):\n",
    "    analysis = TextBlob(comment)\n",
    "    \n",
    "    if analysis.sentiment.polarity > 0:\n",
    "        return 1\n",
    "    elif analysis.sentiment.polarity == 0:\n",
    "        return 0\n",
    "    else:\n",
    "        return -1"
   ]
  },
  {
   "cell_type": "code",
   "execution_count": 9,
   "metadata": {},
   "outputs": [
    {
     "data": {
      "text/html": [
       "<div>\n",
       "<style scoped>\n",
       "    .dataframe tbody tr th:only-of-type {\n",
       "        vertical-align: middle;\n",
       "    }\n",
       "\n",
       "    .dataframe tbody tr th {\n",
       "        vertical-align: top;\n",
       "    }\n",
       "\n",
       "    .dataframe thead th {\n",
       "        text-align: right;\n",
       "    }\n",
       "</style>\n",
       "<table border=\"1\" class=\"dataframe\">\n",
       "  <thead>\n",
       "    <tr style=\"text-align: right;\">\n",
       "      <th></th>\n",
       "      <th>overall</th>\n",
       "      <th>reviewText</th>\n",
       "      <th>vote</th>\n",
       "      <th>sentiment</th>\n",
       "    </tr>\n",
       "  </thead>\n",
       "  <tbody>\n",
       "    <tr>\n",
       "      <th>71275</th>\n",
       "      <td>5.0</td>\n",
       "      <td>I am an instructor for Dragon NaturallySpeakin...</td>\n",
       "      <td>1,028</td>\n",
       "      <td>1</td>\n",
       "    </tr>\n",
       "    <tr>\n",
       "      <th>274307</th>\n",
       "      <td>1.0</td>\n",
       "      <td>Don't buy this if you are a long time user of ...</td>\n",
       "      <td>1,037</td>\n",
       "      <td>1</td>\n",
       "    </tr>\n",
       "    <tr>\n",
       "      <th>98281</th>\n",
       "      <td>1.0</td>\n",
       "      <td>Dragon Naturally Speaking Premium 11 by Nuance...</td>\n",
       "      <td>1,089</td>\n",
       "      <td>1</td>\n",
       "    </tr>\n",
       "    <tr>\n",
       "      <th>274314</th>\n",
       "      <td>1.0</td>\n",
       "      <td>Have used Turbotax from its beginning.  It has...</td>\n",
       "      <td>1,142</td>\n",
       "      <td>1</td>\n",
       "    </tr>\n",
       "    <tr>\n",
       "      <th>23650</th>\n",
       "      <td>5.0</td>\n",
       "      <td>I'm waiting for the day when software becomes ...</td>\n",
       "      <td>1,149</td>\n",
       "      <td>1</td>\n",
       "    </tr>\n",
       "    <tr>\n",
       "      <th>...</th>\n",
       "      <td>...</td>\n",
       "      <td>...</td>\n",
       "      <td>...</td>\n",
       "      <td>...</td>\n",
       "    </tr>\n",
       "    <tr>\n",
       "      <th>316563</th>\n",
       "      <td>1.0</td>\n",
       "      <td>There are a number of bugs that need to be wor...</td>\n",
       "      <td>10</td>\n",
       "      <td>1</td>\n",
       "    </tr>\n",
       "    <tr>\n",
       "      <th>174412</th>\n",
       "      <td>1.0</td>\n",
       "      <td>Okay, I watched a tutorial on this video editi...</td>\n",
       "      <td>10</td>\n",
       "      <td>1</td>\n",
       "    </tr>\n",
       "    <tr>\n",
       "      <th>30479</th>\n",
       "      <td>1.0</td>\n",
       "      <td>If you are a Lotus Organizer user wishing to m...</td>\n",
       "      <td>10</td>\n",
       "      <td>1</td>\n",
       "    </tr>\n",
       "    <tr>\n",
       "      <th>246655</th>\n",
       "      <td>5.0</td>\n",
       "      <td>With all the over priced programs out there it...</td>\n",
       "      <td>10</td>\n",
       "      <td>1</td>\n",
       "    </tr>\n",
       "    <tr>\n",
       "      <th>418649</th>\n",
       "      <td>5.0</td>\n",
       "      <td>My 7 year old learned to type so quickly.  She...</td>\n",
       "      <td>10</td>\n",
       "      <td>1</td>\n",
       "    </tr>\n",
       "  </tbody>\n",
       "</table>\n",
       "<p>100 rows × 4 columns</p>\n",
       "</div>"
      ],
      "text/plain": [
       "        overall                                         reviewText   vote  \\\n",
       "71275       5.0  I am an instructor for Dragon NaturallySpeakin...  1,028   \n",
       "274307      1.0  Don't buy this if you are a long time user of ...  1,037   \n",
       "98281       1.0  Dragon Naturally Speaking Premium 11 by Nuance...  1,089   \n",
       "274314      1.0  Have used Turbotax from its beginning.  It has...  1,142   \n",
       "23650       5.0  I'm waiting for the day when software becomes ...  1,149   \n",
       "...         ...                                                ...    ...   \n",
       "316563      1.0  There are a number of bugs that need to be wor...     10   \n",
       "174412      1.0  Okay, I watched a tutorial on this video editi...     10   \n",
       "30479       1.0  If you are a Lotus Organizer user wishing to m...     10   \n",
       "246655      5.0  With all the over priced programs out there it...     10   \n",
       "418649      5.0  My 7 year old learned to type so quickly.  She...     10   \n",
       "\n",
       "        sentiment  \n",
       "71275           1  \n",
       "274307          1  \n",
       "98281           1  \n",
       "274314          1  \n",
       "23650           1  \n",
       "...           ...  \n",
       "316563          1  \n",
       "174412          1  \n",
       "30479           1  \n",
       "246655          1  \n",
       "418649          1  \n",
       "\n",
       "[100 rows x 4 columns]"
      ]
     },
     "execution_count": 9,
     "metadata": {},
     "output_type": "execute_result"
    }
   ],
   "source": [
    "df2['sentiment'] = np.array([analyze_sentiment(text) for text in df2['reviewText']])\n",
    "df2"
   ]
  },
  {
   "cell_type": "code",
   "execution_count": null,
   "metadata": {},
   "outputs": [],
   "source": []
  },
  {
   "cell_type": "code",
   "execution_count": null,
   "metadata": {
    "scrolled": true
   },
   "outputs": [],
   "source": []
  },
  {
   "cell_type": "code",
   "execution_count": null,
   "metadata": {},
   "outputs": [],
   "source": []
  },
  {
   "cell_type": "code",
   "execution_count": null,
   "metadata": {},
   "outputs": [],
   "source": []
  }
 ],
 "metadata": {
  "kernelspec": {
   "display_name": "Python 3",
   "language": "python",
   "name": "python3"
  },
  "language_info": {
   "codemirror_mode": {
    "name": "ipython",
    "version": 3
   },
   "file_extension": ".py",
   "mimetype": "text/x-python",
   "name": "python",
   "nbconvert_exporter": "python",
   "pygments_lexer": "ipython3",
   "version": "3.8.3"
  }
 },
 "nbformat": 4,
 "nbformat_minor": 4
}
